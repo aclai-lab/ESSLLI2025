{
 "cells": [
  {
   "cell_type": "markdown",
   "metadata": {},
   "source": [
    "# Vector Space Emdeddings of K Modal Logic Formulas"
   ]
  },
  {
   "cell_type": "code",
   "execution_count": null,
   "metadata": {},
   "outputs": [],
   "source": [
    "import random\n",
    "import numpy as np\n",
    "from multiprocessing import Pool"
   ]
  },
  {
   "cell_type": "markdown",
   "metadata": {},
   "source": [
    "Propositional letters (variables representing atomic propositions in logic)"
   ]
  },
  {
   "cell_type": "code",
   "execution_count": null,
   "metadata": {},
   "outputs": [],
   "source": [
    "propositions = ['p', 'q', 'r', 's,', 't']"
   ]
  },
  {
   "cell_type": "markdown",
   "metadata": {},
   "source": [
    "Logical and modal operators"
   ]
  },
  {
   "cell_type": "code",
   "execution_count": null,
   "metadata": {},
   "outputs": [],
   "source": [
    "logical_operators = ['¬', '∧', '∨']  # '¬' (negation), '∧' (conjunction), '∨' (disjunction)\n",
    "modal_operators = ['□', '◇']  # '□' (necessarily), '◇' (possibly)"
   ]
  },
  {
   "cell_type": "markdown",
   "metadata": {},
   "source": [
    "Function to generate a random modal formula"
   ]
  },
  {
   "cell_type": "code",
   "execution_count": null,
   "metadata": {},
   "outputs": [],
   "source": [
    "def generate_modal_formula(propositions, depth):\n",
    "    \"\"\"\n",
    "    Recursively generates a random modal logic formula based on the given depth.\n",
    "\n",
    "    Parameters:\n",
    "    depth (int): The depth of the formula, controlling its complexity.\n",
    "\n",
    "    Returns:\n",
    "    str: A randomly generated modal formula as a string.\n",
    "    \"\"\"\n",
    "    if depth == 0:\n",
    "        # Base case: return a randomly chosen propositional letter\n",
    "        return random.choice(propositions)\n",
    "    else:\n",
    "        # Randomly select an operator (either logical or modal)\n",
    "        operator = random.choice(logical_operators + modal_operators)\n",
    "\n",
    "        if operator in logical_operators:\n",
    "            if operator == '¬':  # Unary logical operator (negation)\n",
    "                return f'¬{generate_modal_formula(propositions, depth - 1)}'\n",
    "            else:  # Binary logical operators (conjunction, disjunction)\n",
    "                return f'({generate_modal_formula(propositions, depth - 1)} {operator} {generate_modal_formula(propositions, depth - 1)})'\n",
    "        else:\n",
    "            # Modal operators (□ and ◇) are unary\n",
    "            return f'{operator}{generate_modal_formula(propositions, depth-1)}'\n"
   ]
  },
  {
   "cell_type": "markdown",
   "metadata": {},
   "source": [
    "Function to generate a random Kripke model"
   ]
  },
  {
   "cell_type": "code",
   "execution_count": null,
   "metadata": {},
   "outputs": [],
   "source": [
    "def generate_kripke_model(num_worlds, propositions):\n",
    "    \"\"\"\n",
    "    Generates a random Kripke model with a given number of worlds, ensuring that no world is isolated.\n",
    "\n",
    "    Parameters:\n",
    "    num_worlds (int): The number of worlds in the Kripke model.\n",
    "    propositions (list): A list of propositional variables.\n",
    "\n",
    "    Returns:\n",
    "    tuple: A tuple containing:\n",
    "        - worlds (list): A list of world names (e.g., ['w0', 'w1', ...]).\n",
    "        - relations (list of tuples): A randomly generated accessibility relation as pairs of worlds.\n",
    "        - valuation (dict): A dictionary mapping each world to a truth assignment for propositional variables.\n",
    "    \"\"\"\n",
    "    # Creating a list of world names (e.g., ['w0', 'w1', 'w2', ...])\n",
    "    worlds = [f'w{i}' for i in range(num_worlds)]\n",
    "\n",
    "    # Ensure that w0 is connected to all other worlds\n",
    "    relations = []\n",
    "    for i in range(1, num_worlds):\n",
    "        relations.append((worlds[0], worlds[i]))  # Add an edge from w0 to every other world\n",
    "\n",
    "    # Randomly add additional edges to ensure reachability\n",
    "    for i in range(1, num_worlds):\n",
    "        for j in range(num_worlds):\n",
    "            if i != j and random.choice([True, False]):\n",
    "                relations.append((worlds[i], worlds[j]))\n",
    "\n",
    "    # Remove duplicate relations (if any)\n",
    "    relations = list(set(relations))\n",
    "\n",
    "    # Assigning a random truth value (True/False) to each propositional letter in each world\n",
    "    valuation = {w: {p: random.choice([True, False]) for p in propositions} for w in worlds}\n",
    "\n",
    "    return worlds, relations, valuation\n"
   ]
  },
  {
   "cell_type": "markdown",
   "metadata": {},
   "source": [
    "Function to decompose a complex formula"
   ]
  },
  {
   "cell_type": "code",
   "execution_count": null,
   "metadata": {},
   "outputs": [],
   "source": [
    "def decompose_formula(formula):\n",
    "    \"\"\"\n",
    "    Decomposes a complex modal logic formula into its components:\n",
    "    - The left operand\n",
    "    - The main logical operator\n",
    "    - The right operand\n",
    "\n",
    "    Parameters:\n",
    "    formula (str): A modal logic formula in string format.\n",
    "\n",
    "    Returns:\n",
    "    tuple: A tuple containing:\n",
    "        - left_part (str or None): The left operand of the formula.\n",
    "        - main_operator (str or None): The main logical operator.\n",
    "        - right_part (str or None): The right operand of the formula.\n",
    "        If the formula cannot be decomposed, returns (None, None, None).\n",
    "    \"\"\"\n",
    "    # Remove outer parentheses if they enclose the entire formula\n",
    "    formula = formula[1:-1]\n",
    "\n",
    "    # Identify the main operator by tracking parenthesis depth\n",
    "    depth = 0\n",
    "    for i, char in enumerate(formula):\n",
    "        if char == '(':\n",
    "            depth += 1\n",
    "        elif char == ')':\n",
    "            depth -= 1\n",
    "        elif char in logical_operators and depth == 0:\n",
    "            # Main operator found at depth 0, split the formula at this point\n",
    "            return formula[:i].strip(), char, formula[i+1:].strip()\n",
    "\n",
    "    # If no valid decomposition is found, return None\n",
    "    return None, None, None\n"
   ]
  },
  {
   "cell_type": "markdown",
   "metadata": {},
   "source": [
    "Function for evaluating a formula on a world (i.e., model checking)"
   ]
  },
  {
   "cell_type": "code",
   "execution_count": null,
   "metadata": {},
   "outputs": [],
   "source": [
    "def evaluate_formula(formula, world, worlds, relations, valuation):\n",
    "    \"\"\"\n",
    "    Evaluates a modal logic formula starting specifically from world 'w1'.\n",
    "\n",
    "    Parameters:\n",
    "    formula (str): The modal logic formula to evaluate.\n",
    "    world (str): (Ignored) Always set to 'w1'.\n",
    "    worlds (list): List of all worlds in the Kripke model.\n",
    "    relations (list of tuples): Accessibility relations.\n",
    "    valuation (dict): Truth assignments for each world.\n",
    "\n",
    "    Returns:\n",
    "    bool: True if the formula is satisfied in world 'w1', False otherwise.\n",
    "    \"\"\"\n",
    "\n",
    "    if formula in propositions:\n",
    "        return valuation[world][formula]\n",
    "\n",
    "    elif formula.startswith('¬'):\n",
    "        return not evaluate_formula(formula[1:], world, worlds, relations, valuation)\n",
    "\n",
    "    elif formula.startswith('('):\n",
    "        subformula1, operator, subformula2 = decompose_formula(formula)\n",
    "\n",
    "        if operator == '∧':\n",
    "            return evaluate_formula(subformula1, world, worlds, relations, valuation) and \\\n",
    "                   evaluate_formula(subformula2, world, worlds, relations, valuation)\n",
    "\n",
    "        elif operator == '∨':\n",
    "            return evaluate_formula(subformula1, world, worlds, relations, valuation) or \\\n",
    "                   evaluate_formula(subformula2, world, worlds, relations, valuation)\n",
    "\n",
    "    elif formula.startswith('□'):\n",
    "        return all(evaluate_formula(formula[1:], w, worlds, relations, valuation)\n",
    "                   for w in worlds if ('w0', w) in relations)\n",
    "\n",
    "    elif formula.startswith('◇'):\n",
    "        return any(evaluate_formula(formula[1:], w, worlds, relations, valuation)\n",
    "                   for w in worlds if ('w0', w) in relations)\n",
    "\n",
    "    return False\n"
   ]
  },
  {
   "cell_type": "markdown",
   "metadata": {},
   "source": [
    "Function to iteratively enhance the satisfaction matrix"
   ]
  },
  {
   "cell_type": "code",
   "execution_count": null,
   "metadata": {},
   "outputs": [],
   "source": [
    "def iterative_optimization(truth_matrix, formulas, models, depth=6, num_worlds_range=(2, 5), nthreads=1):\n",
    "    \"\"\"\n",
    "    Iteratively ensures that all columns in the truth matrix are unique by adjusting formulas and models.\n",
    "    The function continues until all columns are unique or the maximum number of iterations is reached.\n",
    "    \"\"\"\n",
    "    pool = Pool(nthreads)\n",
    "    n_formulas, m_models = truth_matrix.shape\n",
    "\n",
    "    while True:\n",
    "        # Check if all columns are unique\n",
    "        unique_columns = len(set(map(tuple, truth_matrix.T))) == m_models\n",
    "\n",
    "        if unique_columns:\n",
    "            print(\"All columns are unique!\")\n",
    "            break  # Stop if all columns are unique\n",
    "\n",
    "        # Attempt to generate a new valid model for each column\n",
    "        for idx in range(m_models):\n",
    "            num_worlds = random.randint(*num_worlds_range)\n",
    "            new_model = generate_kripke_model(num_worlds, propositions)\n",
    "            new_column_values = np.array([\n",
    "                evaluate_formula(formulas[i], 'w0', new_model[0], new_model[1], new_model[2])\n",
    "                for i in range(n_formulas)\n",
    "            ], dtype=int)\n",
    "\n",
    "            # Check if the new column is unique\n",
    "            if not any(np.array_equal(new_column_values, truth_matrix[:, j]) for j in range(m_models)):\n",
    "                models[idx] = new_model\n",
    "                truth_matrix[:, idx] = new_column_values\n",
    "                break  # Move on to the next column\n",
    "        else:\n",
    "            # If no unique column was found after trying all models, generate new formulas\n",
    "            print(\"No unique model found, generating new formulas...\")\n",
    "            for i in range(n_formulas):\n",
    "                # Generate a new modal formula with the same depth\n",
    "                formulas[i] = generate_modal_formula(propositions, depth)\n",
    "\n",
    "            # Re-evaluate all columns with the new formulas\n",
    "            for idx in range(m_models):\n",
    "                truth_matrix[:, idx] = np.array([\n",
    "                    evaluate_formula(formulas[i], 'w0', models[idx][0], models[idx][1], models[idx][2])\n",
    "                    for i in range(n_formulas)\n",
    "                ], dtype=int)\n",
    "\n",
    "    pool.close()\n",
    "    pool.join()\n",
    "    return truth_matrix, formulas, models\n"
   ]
  },
  {
   "cell_type": "markdown",
   "metadata": {},
   "source": [
    "Function to generate the vector space embeddings"
   ]
  },
  {
   "cell_type": "code",
   "execution_count": null,
   "metadata": {},
   "outputs": [],
   "source": [
    "def generate_embedding(dimension, formula_depth, universe_range, nthreads=1):\n",
    "    \"\"\"\n",
    "    Generates an embedding matrix for modal logic formulas and Kripke models.\n",
    "    Starts with a 3x3 truth matrix, formulas, and models.\n",
    "    \"\"\"\n",
    "    # Initialization with a 3x3 matrix, formulas, and predefined models\n",
    "    formulas = [generate_modal_formula(propositions, random.randint(1, formula_depth)) for _ in range(3)]\n",
    "    models = [generate_kripke_model(random.randint(2, universe_range), propositions) for _ in range(3)]\n",
    "\n",
    "    # Creation of the 3x3 truth_matrix\n",
    "    truth_matrix = np.zeros((3, 3), dtype=int)\n",
    "    for i in range(3):\n",
    "        for j in range(3):\n",
    "            worlds, relations, valuation = models[j]  # Access elements of the tuple\n",
    "            truth_matrix[i, j] = evaluate_formula(formulas[i], 'w0', worlds, relations, valuation)\n",
    "\n",
    "    print(\"Initial 3x3 matrix:\\n\", truth_matrix)\n",
    "    print(\"Initial formulas:\", formulas)\n",
    "    print(\"Initial models:\", models)\n",
    "\n",
    "    pool = Pool(processes=nthreads)\n",
    "\n",
    "    # Start from the 4th iteration, since we already have a 3x3 matrix\n",
    "    for i in range(3, dimension):  # Remaining iterations to reach the desired dimension\n",
    "        print(f\"--- Iteration {i+1} ---\")\n",
    "\n",
    "        depth = random.randint(1, formula_depth)\n",
    "        num_worlds = random.randint(2, universe_range)\n",
    "\n",
    "        # Generate a new model and formula\n",
    "        new_formula = generate_modal_formula(propositions, depth)\n",
    "        new_worlds, new_relations, new_valuation = generate_kripke_model(num_worlds, propositions)\n",
    "\n",
    "        print(\"New formula generated:\", new_formula)\n",
    "        print(\"New model generated with\", num_worlds, \"worlds.\")\n",
    "\n",
    "        # Add the new formula and new model to the lists\n",
    "        formulas.append(new_formula)\n",
    "        # We use a tuple for the new model\n",
    "        models.append((new_worlds, new_relations, new_valuation))\n",
    "\n",
    "        # Expand truth_matrix to include the new formula and the new model\n",
    "        new_size = len(formulas)  # The new dimension equals the number of formulas/models\n",
    "        expanded_matrix = np.zeros((new_size, new_size), dtype=int)\n",
    "\n",
    "        # Copy the old matrix into the new one\n",
    "        expanded_matrix[:-1, :-1] = truth_matrix\n",
    "\n",
    "        # Evaluate the new formula on the existing models (if any)\n",
    "        new_row = np.array([\n",
    "            evaluate_formula(new_formula, 'w0', m[0], m[1], m[2])  # Access elements of the tuple\n",
    "            for m in models\n",
    "        ], dtype=int)\n",
    "\n",
    "        # Evaluate the existing formulas on the new model (if any)\n",
    "        new_column = np.array([\n",
    "            evaluate_formula(f, 'w0', new_worlds, new_relations, new_valuation)\n",
    "            for f in formulas\n",
    "        ], dtype=int)\n",
    "\n",
    "        # Add the new formula's value on the new model\n",
    "        new_value = int(evaluate_formula(new_formula, 'w0', new_worlds, new_relations, new_valuation))\n",
    "\n",
    "        # Insert values into the new matrix\n",
    "        expanded_matrix[-1, :] = new_row      # New row\n",
    "        expanded_matrix[:, -1] = new_column   # New column\n",
    "        expanded_matrix[-1, -1] = new_value   # Diagonal value\n",
    "\n",
    "        # Update the matrix to pass to the optimization\n",
    "        truth_matrix = expanded_matrix\n",
    "\n",
    "        print(\"Number of formulas:\", len(formulas))\n",
    "        print(\"Number of models:\", len(models))\n",
    "        print(\"Truth matrix dimensions:\", truth_matrix.shape)\n",
    "\n",
    "        # Pass the expanded matrix to the optimization\n",
    "        truth_matrix, formulas, models = iterative_optimization(\n",
    "            truth_matrix, formulas, models,\n",
    "            num_worlds_range=(2, universe_range), nthreads=nthreads\n",
    "        )\n",
    "\n",
    "        # Check if the optimization has failed (if there are identical columns)\n",
    "        if len(set(map(tuple, truth_matrix.T))) < truth_matrix.shape[1]:\n",
    "            print(\"Optimization not successful\")\n",
    "            break\n",
    "\n",
    "        # Print the updated matrix and move on to the next iteration\n",
    "        print(\"Truth Matrix after optimization:\\n\", truth_matrix)\n",
    "\n",
    "    pool.close()\n",
    "    pool.join()\n",
    "    return truth_matrix, formulas, models\n"
   ]
  },
  {
   "cell_type": "markdown",
   "metadata": {},
   "source": [
    "Generate vector space embeddings"
   ]
  },
  {
   "cell_type": "code",
   "execution_count": null,
   "metadata": {},
   "outputs": [],
   "source": [
    "truth_matrix, formulas, models = generate_embedding(6, 6, 6)"
   ]
  },
  {
   "cell_type": "markdown",
   "metadata": {},
   "source": [
    "Results"
   ]
  },
  {
   "cell_type": "code",
   "execution_count": null,
   "metadata": {},
   "outputs": [],
   "source": [
    "print(truth_matrix)\n",
    "print(formulas)\n",
    "print(models)"
   ]
  }
 ],
 "metadata": {
  "kernelspec": {
   "display_name": "Python 3",
   "language": "python",
   "name": "python3"
  },
  "language_info": {
   "codemirror_mode": {
    "name": "ipython",
    "version": 3
   },
   "file_extension": ".py",
   "mimetype": "text/x-python",
   "name": "python",
   "nbconvert_exporter": "python",
   "pygments_lexer": "ipython3",
   "version": "3.11.2"
  }
 },
 "nbformat": 4,
 "nbformat_minor": 2
}
